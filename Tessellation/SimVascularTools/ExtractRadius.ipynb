{
 "cells": [
  {
   "cell_type": "code",
   "execution_count": 16,
   "metadata": {},
   "outputs": [],
   "source": [
    "import vtk\n",
    "import xml.etree.ElementTree as ET\n",
    "import os\n",
    "import numpy as np\n",
    "\n",
    "def ReadVTPFile(FileName):\n",
    "    reader = vtk.vtkXMLPolyDataReader()\n",
    "    reader.SetFileName(FileName)\n",
    "    reader.Update()\n",
    "    return reader\n",
    "\n",
    "def CutPlane(Volume,Origin,Norm):\n",
    "    plane=vtk.vtkPlane()\n",
    "    plane.SetOrigin(Origin)\n",
    "    plane.SetNormal(Norm)\n",
    "    Slice=vtk.vtkCutter()\n",
    "    Slice.GenerateTrianglesOff()\n",
    "    Slice.SetCutFunction(plane)\n",
    "    Slice.SetInputData(Volume)\n",
    "    Slice.Update()\n",
    "    return Slice.GetOutput()\n",
    "\n",
    "def ReadVTIFile(FileName):\n",
    "    reader = vtk.vtkXMLImageDataReader()\n",
    "    reader.SetFileName(FileName)\n",
    "    reader.Update()\n",
    "    return reader.GetOutput()\n",
    "\n",
    "def WriteVTPFile(FileName,Data):\n",
    "    writer=vtk.vtkXMLPolyDataWriter()\n",
    "    writer.SetFileName(FileName)\n",
    "    writer.SetInputData(Data)\n",
    "    writer.Update()\n",
    "\n",
    "def SphereClip(volume_image,center,radius):\n",
    "    sphere = vtk.vtkSphere()\n",
    "    sphere.SetCenter(center)\n",
    "    sphere.SetRadius(radius)\n",
    "\n",
    "    clipper = vtk.vtkClipDataSet()\n",
    "    clipper.SetInputData(volume_image)\n",
    "    clipper.SetClipFunction(sphere)\n",
    "    clipper.InsideOutOn()\n",
    "    clipper.GetOutputInformation(1)\n",
    "    clipper.Update()\n",
    "\n",
    "    return clipper.GetOutput()\n",
    "\n",
    "def PlaneClip(volume,center, a):\n",
    "    box = vtk.vtkBox()\n",
    "    box.SetBounds(\n",
    "        center[0] - a, center[0] + a,\n",
    "        center[1] - a, center[1] + a,\n",
    "        center[2] - a, center[2] + a\n",
    "    )\n",
    "\n",
    "    clipper = vtk.vtkClipDataSet()\n",
    "    clipper.SetInputData(volume)\n",
    "    clipper.SetClipFunction(box)\n",
    "    clipper.InsideOutOn()\n",
    "    clipper.GetOutputInformation(1)\n",
    "    clipper.Update()\n",
    "\n",
    "    return clipper.GetOutput()\n",
    "\n",
    "def gradient_filter(vtk_image):\n",
    "    gradient_filter = vtk.vtkImageGradient()\n",
    "    gradient_filter.SetInputData(vtk_image)\n",
    "    gradient_filter.SetDimensionality(3)\n",
    "    gradient_filter.Update()\n",
    "\n",
    "    return gradient_filter.GetOutput()\n",
    "    \n",
    "def define_borders(gradient_image):\n",
    "    magnitude_filter = vtk.vtkImageMagnitude()\n",
    "    magnitude_filter.SetInputData(gradient_image)\n",
    "    magnitude_filter.Update()\n",
    "    \n",
    "    return magnitude_filter.GetOutput()\n",
    "\n",
    "def ExtractSurface(UnstrcturedGrid):\n",
    "    geometry_filter = vtk.vtkGeometryFilter()\n",
    "    geometry_filter.SetInputData(UnstrcturedGrid)\n",
    "    geometry_filter.Update()\n",
    "\n",
    "    return geometry_filter.GetOutput()\n",
    "\n",
    "def WriteVTUFile(FileName,Data):\n",
    "\twriter=vtk.vtkXMLUnstructuredGridWriter()\n",
    "\twriter.SetFileName(FileName)\n",
    "\twriter.SetInputData(Data)\n",
    "\twriter.Update()\n",
    "\n",
    "def clip_polydata_with_plane(polydata, origin, normal, inside_out=False):\n",
    "    plane = vtk.vtkPlane()\n",
    "    plane.SetOrigin(origin)\n",
    "    plane.SetNormal(normal)\n",
    "\n",
    "    clipper = vtk.vtkClipPolyData()\n",
    "    clipper.SetInputData(polydata)\n",
    "    clipper.SetClipFunction(plane)\n",
    "\n",
    "    if inside_out:\n",
    "        clipper.InsideOutOn()\n",
    "    else:\n",
    "        clipper.InsideOutOff()\n",
    "    \n",
    "    clipper.Update()\n",
    "\n",
    "    return clipper.GetOutput()"
   ]
  },
  {
   "cell_type": "code",
   "execution_count": 17,
   "metadata": {},
   "outputs": [],
   "source": [
    "pathline_file = \"/Users/ana/Documents/AnahitaSeresti/Tesselation/KoenTesselation_SU03A/SimVascular_Edgard/Paths/L_LAD_0.pth\"\n",
    "ImagePath = \"/Users/ana/Documents/AnahitaSeresti/Tesselation/KoenTesselation_SU03A/SimVascular_Edgard/Images/ct.vti\""
   ]
  },
  {
   "cell_type": "code",
   "execution_count": 18,
   "metadata": {},
   "outputs": [
    {
     "name": "stdout",
     "output_type": "stream",
     "text": [
      "the number of points in the centerline is: 101\n"
     ]
    }
   ],
   "source": [
    "with open(pathline_file, \"r\") as path:\n",
    "    #path.readlines()\n",
    "    tree = ET.parse(path)\n",
    "root = tree.getroot()\n",
    "\n",
    "direction_points = []\n",
    "for direction_point in root.findall(\".//path_point/tangent\"):\n",
    "    x = float(direction_point.attrib['x'])\n",
    "    y = float(direction_point.attrib['y'])\n",
    "    z = float(direction_point.attrib['z'])\n",
    "    direction_points.append((x,y,z))\n",
    "\n",
    "path_points = []\n",
    "for path_point in root.findall(\".//path_point/pos\"):\n",
    "    x = float(path_point.attrib['x'])\n",
    "    y = float(path_point.attrib['y'])\n",
    "    z = float(path_point.attrib['z'])\n",
    "    path_points.append((x,y,z))\n",
    "\n",
    "path_normals = []\n",
    "for normal in root.findall(\".//path_point/rotation\"):\n",
    "    x = float(normal.attrib['x'])\n",
    "    y = float(normal.attrib['y'])\n",
    "    z = float(normal.attrib['z'])\n",
    "    path_normals.append((x,y,z))\n",
    "\n",
    "NPoints = len(path_points)\n",
    "print(\"the number of points in the centerline is:\", NPoints)\n",
    "\n",
    "binormal = []\n",
    "for i in range(NPoints):\n",
    "    binormal_ = np.cross(np.array(direction_points[i]),np.array(path_normals[i]))\n",
    "    binormal_ /= np.linalg.norm(binormal_)\n",
    "    binormal.append(binormal_)\n",
    "    "
   ]
  },
  {
   "cell_type": "code",
   "execution_count": 19,
   "metadata": {},
   "outputs": [],
   "source": [
    "Volume = ReadVTIFile(ImagePath)\n",
    "Volume_Gradient = define_borders(gradient_filter(Volume))"
   ]
  },
  {
   "cell_type": "code",
   "execution_count": null,
   "metadata": {},
   "outputs": [],
   "source": [
    "#SKIP\n",
    "\n",
    "a = 10\n",
    "cs_loc = 100\n",
    "CrossSection = CutPlane(SphereClip(Volume,path_points[cs_loc],2*a),path_points[cs_loc],direction_points[cs_loc])\n",
    "CrossSectionGrd = CutPlane(SphereClip(Volume_Gradient,path_points[cs_loc],2*a),path_points[cs_loc],direction_points[cs_loc])"
   ]
  },
  {
   "cell_type": "code",
   "execution_count": null,
   "metadata": {},
   "outputs": [
    {
     "name": "stdout",
     "output_type": "stream",
     "text": [
      "[0.         0.27219775 0.96224133]\n",
      "0.0 0.272197749777385 0.962241334082115\n",
      "[-0.         -0.27219775 -0.96224133]\n",
      "-0.0 -0.272197749777385 -0.962241334082115\n",
      "[-0.61499203 -0.75875936  0.214637  ]\n",
      "-0.6149920316840819 -0.758759356376682 0.21463699605596534\n",
      "[ 0.61499203  0.75875936 -0.214637  ]\n",
      "0.6149920316840819 0.758759356376682 -0.21463699605596534\n"
     ]
    }
   ],
   "source": [
    "#SKIP\n",
    "\n",
    "normal = np.array(path_normals[1])\n",
    "Bnormal = np.array(binormal[1])\n",
    "#print(normal[0], normal[1], normal[2])\n",
    "Rays = []\n",
    "for _,array in enumerate([normal, -1*normal, Bnormal, -1*Bnormal]):\n",
    "    print(array)\n",
    "    print(array[0], array[1], array[2])\n",
    "    #ray_ = np.array(CenterPoint[0] + 100 * array[0], CenterPoint[1] + 100 * array[1], CenterPoint[2] + 100 * array[2])\n",
    "    #Rays.append(ray_)\n"
   ]
  },
  {
   "cell_type": "code",
   "execution_count": 20,
   "metadata": {},
   "outputs": [],
   "source": [
    "\n",
    "def EstimateVesselRadius(CrossSectionGradient, CenterPoint, normal, Bnormal):\n",
    "    \n",
    "    normal = np.array(normal)\n",
    "    Bnormal = np.array(Bnormal)\n",
    "\n",
    "    Rays = []\n",
    "    for arr in [normal, Bnormal]:\n",
    "        ray_ = np.array([CenterPoint[0] + 100 * arr[0], CenterPoint[1] + 100 * arr[1], CenterPoint[2] + 100 * arr[2]])\n",
    "        Rays.append(ray_)\n",
    "\n",
    "    #Radius = []\n",
    "    #for ray in Rays:\n",
    "    line = vtk.vtkLineSource()\n",
    "    line.SetPoint1(CenterPoint)\n",
    "    line.SetPoint2(Rays[0])\n",
    "    line.SetResolution(100)\n",
    "\n",
    "    probe = vtk.vtkProbeFilter()\n",
    "    probe.SetInputConnection(line.GetOutputPort())\n",
    "    probe.SetSourceData(CrossSectionGradient)\n",
    "    probe.Update()\n",
    "\n",
    "    sampled_data = probe.GetOutput().GetPointData().GetScalars()\n",
    "    gradients = np.array([sampled_data.GetTuple1(i) for i in range(sampled_data.GetNumberOfTuples())])\n",
    "\n",
    "    boundary_idx = np.argmax(gradients)\n",
    "\n",
    "    boundary_point = probe.GetOutput().GetPoint(boundary_idx)\n",
    "    radius = np.sqrt((boundary_point[0] - CenterPoint[0])**2 + (boundary_point[1] - CenterPoint[1])**2 + (boundary_point[2] - CenterPoint[2])**2)\n",
    "    #Radius.append(radius)\n",
    "\n",
    "    return radius#np.mean(np.array(Radius))\n"
   ]
  },
  {
   "cell_type": "code",
   "execution_count": null,
   "metadata": {},
   "outputs": [
    {
     "ename": "KeyboardInterrupt",
     "evalue": "",
     "output_type": "error",
     "traceback": [
      "\u001b[0;31m---------------------------------------------------------------------------\u001b[0m",
      "\u001b[0;31mKeyboardInterrupt\u001b[0m                         Traceback (most recent call last)",
      "Cell \u001b[0;32mIn[9], line 6\u001b[0m\n\u001b[1;32m      3\u001b[0m OutputFolder \u001b[38;5;241m=\u001b[39m os\u001b[38;5;241m.\u001b[39mpath\u001b[38;5;241m.\u001b[39mjoin(OutputFolder,VesselName)\n\u001b[1;32m      5\u001b[0m \u001b[38;5;28;01mfor\u001b[39;00m cs_loc \u001b[38;5;129;01min\u001b[39;00m \u001b[38;5;28mrange\u001b[39m(NPoints):\n\u001b[0;32m----> 6\u001b[0m     CrossSectionGrd \u001b[38;5;241m=\u001b[39m CutPlane(SphereClip(Volume_Gradient,path_points[cs_loc],\u001b[38;5;241m2\u001b[39m\u001b[38;5;241m*\u001b[39ma),path_points[cs_loc],direction_points[cs_loc])\n\u001b[1;32m      7\u001b[0m     radius \u001b[38;5;241m=\u001b[39m EstimateVesselRadius(CrossSectionGrd, path_points[cs_loc], path_normals[cs_loc], binormal[cs_loc])\n\u001b[1;32m      8\u001b[0m     CS_Grd_FileName \u001b[38;5;241m=\u001b[39m \u001b[38;5;124mf\u001b[39m\u001b[38;5;124m\"\u001b[39m\u001b[38;5;132;01m{\u001b[39;00mVesselName\u001b[38;5;132;01m}\u001b[39;00m\u001b[38;5;124m_CrossSection_\u001b[39m\u001b[38;5;132;01m{\u001b[39;00mcs_loc\u001b[38;5;132;01m}\u001b[39;00m\u001b[38;5;124m_Grd.vtp\u001b[39m\u001b[38;5;124m\"\u001b[39m\n",
      "Cell \u001b[0;32mIn[1], line 45\u001b[0m, in \u001b[0;36mSphereClip\u001b[0;34m(volume_image, center, radius)\u001b[0m\n\u001b[1;32m     43\u001b[0m clipper\u001b[38;5;241m.\u001b[39mInsideOutOn()\n\u001b[1;32m     44\u001b[0m clipper\u001b[38;5;241m.\u001b[39mGetOutputInformation(\u001b[38;5;241m1\u001b[39m)\n\u001b[0;32m---> 45\u001b[0m clipper\u001b[38;5;241m.\u001b[39mUpdate()\n\u001b[1;32m     47\u001b[0m \u001b[38;5;28;01mreturn\u001b[39;00m clipper\u001b[38;5;241m.\u001b[39mGetOutput()\n",
      "\u001b[0;31mKeyboardInterrupt\u001b[0m: "
     ]
    }
   ],
   "source": [
    "#SKIP\n",
    "\n",
    "OutputFolder = os.path.dirname(pathline_file)\n",
    "VesselName = os.path.splitext(os.path.basename(pathline_file))[0]\n",
    "OutputFolder = os.path.join(OutputFolder,VesselName)\n",
    "\n",
    "for cs_loc in range(NPoints):\n",
    "    CrossSectionGrd = CutPlane(SphereClip(Volume_Gradient,path_points[cs_loc],2*a),path_points[cs_loc],direction_points[cs_loc])\n",
    "    radius = EstimateVesselRadius(CrossSectionGrd, path_points[cs_loc], path_normals[cs_loc], binormal[cs_loc])\n",
    "    CS_Grd_FileName = f\"{VesselName}_CrossSection_{cs_loc}_Grd.vtp\"\n",
    "    WriteVTPFile(os.path.join(OutputFolder,CS_Grd_FileName), CrossSectionGrd)\n"
   ]
  },
  {
   "cell_type": "code",
   "execution_count": null,
   "metadata": {},
   "outputs": [
    {
     "name": "stdout",
     "output_type": "stream",
     "text": [
      "0.9999932359167059\n"
     ]
    }
   ],
   "source": [
    "#SKIP\n",
    "\n",
    "cs_loc = 100\n",
    "CrossSectionGrd = CutPlane(SphereClip(Volume_Gradient,path_points[cs_loc],2*a),path_points[cs_loc],direction_points[cs_loc])\n",
    "radius = EstimateVesselRadius(CrossSectionGrd, path_points[cs_loc], path_normals[cs_loc], binormal[cs_loc])\n",
    "print(radius)"
   ]
  },
  {
   "cell_type": "code",
   "execution_count": null,
   "metadata": {},
   "outputs": [],
   "source": [
    "#SKIP\n",
    "\n",
    "sphere = vtk.vtkSphereSource()\n",
    "sphere.SetCenter(path_points[cs_loc])\n",
    "sphere.SetRadius(radius)\n",
    "sphere.Update()\n"
   ]
  },
  {
   "cell_type": "code",
   "execution_count": 21,
   "metadata": {},
   "outputs": [],
   "source": [
    "pathline_vtp_file = f\"{os.path.splitext(pathline_file)[0]}.vtp\"\n",
    "CenterLineVTP = ReadVTPFile(pathline_vtp_file)"
   ]
  },
  {
   "cell_type": "code",
   "execution_count": 22,
   "metadata": {},
   "outputs": [],
   "source": [
    "from scipy.interpolate import interp1d\n",
    "\n",
    "radius_scalars = vtk.vtkDoubleArray()\n",
    "radius_scalars.SetNumberOfComponents(1)\n",
    "radius_scalars.SetName(\"Radius\")\n",
    "\n",
    "a = 10\n",
    "Radius = []\n",
    "for i in range(NPoints):\n",
    "    CrossSectionGrd = CutPlane(SphereClip(Volume_Gradient,path_points[i],2*a),path_points[i],direction_points[i])\n",
    "    radius = EstimateVesselRadius(CrossSectionGrd, path_points[i], path_normals[i], binormal[i])\n",
    "    Radius.append(radius)\n",
    "    #radius_scalars.InsertNextValue(radius)\n",
    "\n"
   ]
  },
  {
   "cell_type": "code",
   "execution_count": 25,
   "metadata": {},
   "outputs": [],
   "source": [
    "def CleanRadius(Radius, start_point = 4.0, end_point = 0.9):\n",
    "    Radius = np.array(Radius)\n",
    "    NPoints = len(Radius)\n",
    "\n",
    "    expected_radii = np.linspace(start_point,end_point, NPoints)\n",
    "    min_allowed = 0.25*expected_radii\n",
    "    max_allowed = 1.1*expected_radii\n",
    "\n",
    "    outliers = (Radius < min_allowed) | (Radius > max_allowed)\n",
    "\n",
    "    valid_indices = np.where(~outliers)[0]\n",
    "    valid_radii = Radius[valid_indices]\n",
    "\n",
    "    interp_func = interp1d(valid_indices, valid_radii, kind='linear', fill_value='extrapolate')\n",
    "\n",
    "    cleaned_radius = Radius.copy()\n",
    "    cleaned_radius[outliers] = interp_func(np.where(outliers)[0])\n",
    "\n",
    "    return cleaned_radius\n",
    "\n",
    "CleanedRadius = CleanRadius(Radius)\n"
   ]
  },
  {
   "cell_type": "code",
   "execution_count": 26,
   "metadata": {},
   "outputs": [
    {
     "name": "stdout",
     "output_type": "stream",
     "text": [
      "4.000001682849798 4.000001682849798 4.00000205342398\n",
      "4.000003056821445 4.000003056821445 4.000001933999865\n",
      "4.00000138344407 4.00000138344407 4.000000745050004\n",
      "3.9999977341123523 3.9999977341123523 3.999999428317947\n",
      "3.9999975798709473 3.9999975798709473 3.9998665824709847\n",
      "4.0000076017260255 4.0000076017260255 3.9955704549281137\n",
      "4.000000000890276 4.000000000890276 3.94587666171505\n",
      "3.9999997973206383 3.9999997973206383 3.7534632648775634\n",
      "2.999998906096958 2.999998906096958 3.542500817296525\n",
      "4.00000645822972 4.00000645822972 3.4575025254225524\n",
      "3.0000000650732086 3.0000000650732086 3.2465384898415275\n",
      "2.999998071905698 2.999998071905698 3.053992154148707\n",
      "3.000005055481283 3.000005055481283 2.999868806401921\n",
      "3.000003708907903 3.000003708907903 2.9415357218998346\n",
      "3.000002891850904 3.000002891850904 2.6979077351441845\n",
      "2.0000001816151545 2.0000001816151545 2.27944456955871\n",
      "2.000002548814144 2.000002548814144 1.9376095033611747\n",
      "4.999995300123048 1.6666690757763072 1.6608470438463718\n",
      "9.000000696422111 1.3333356027384702 1.4701015772781618\n",
      "1.000002129700633 1.000002129700633 1.7222735175704926\n",
      "2.9999944846705877 2.9999944846705877 2.420026523703608\n",
      "2.9999977894227743 2.9999977894227743 2.8844493786557512\n",
      "2.9999943569376155 2.9999943569376155 2.9909099082595825\n",
      "2.9999995772522072 2.9999995772522072 2.999662930962442\n",
      "2.9999978601130697 2.9999978601130697 2.9976478008625316\n",
      "2.9999941282455937 2.9999941282455937 2.968370202997445\n",
      "3.000004388580256 3.000004388580256 2.8181090185664956\n",
      "15.999996985525389 2.5000038161742797 2.468441940804781\n",
      "5.379615225407418e-06 2.0000032437683037 2.0000032066015527\n",
      "5.823990764625689e-06 1.5000026713623276 1.53156408490713\n",
      "1.0000020989563516 1.0000020989563516 1.1819399065285352\n",
      "6.860654915514769e-06 1.0000040522058968 1.033198551058306\n",
      "1.000006005455442 1.000006005455442 1.023439291252981\n",
      "1.0000025475789902 1.0000025475789902 1.1211524088870561\n",
      "5.848776728960653e-06 1.333332952094985 1.3482862209809465\n",
      "6.708618370337944e-06 1.6666633566109799 1.5885877861214819\n",
      "1.9999937611269747 1.9999937611269747 1.578249758540101\n",
      "0.9999935436337756 0.9999935436337756 1.2794375635958066\n",
      "0.9999967901711839 0.9999967901711839 1.0569860141296417\n",
      "5.777276921826858e-06 0.9999964083317627 1.0045172787170003\n",
      "6.9031081902000195e-06 0.9999960264923415 1.0001298823302522\n",
      "6.171146667051819e-06 0.9999956446529205 0.9999961809424478\n",
      "0.9999952628134993 0.9999952628134993 0.9999980271480541\n",
      "1.000004030558979 1.000004030558979 1.0000013787708717\n",
      "1.0000038516150354 1.0000038516150354 1.0000034673374683\n",
      "3.75561987792157e-06 1.0000040538268555 1.0000040371166983\n",
      "2.742561547845371e-06 1.000004256038676 1.000004256632585\n",
      "5.620495032804559e-06 1.000004458250496 1.0000044571066202\n",
      "6.08444924707709e-06 1.0000046604623163 1.0000046210500504\n",
      "6.404104863974397e-06 1.0000048626741367 1.0000043842185107\n",
      "1.0000050648859569 1.0000050648859569 1.0000029132935255\n",
      "0.9999963387499655 0.9999963387499655 1.0000012925733022\n",
      "1.000006641955049 1.000006641955049 1.000000236667144\n",
      "0.999993708160354 0.999993708160354 0.9999974293645532\n",
      "0.9999948172705949 0.9999948172705949 0.9999958271850993\n",
      "0.9999952482699992 0.9999952482699992 0.9999976843533034\n",
      "1.0000038343333464 1.0000038343333464 1.0000011824435489\n",
      "7.558527513942836e-06 1.0000037162299402 1.0000032038703441\n",
      "4.417295245154598e-06 1.0000035981265338 1.000137388264835\n",
      "7.948754752318863e-06 1.0000034800231277 1.0045595889154524\n",
      "7.388995398459556e-06 1.0000033619197213 1.0582242099682306\n",
      "1.0000032438163151 1.0000032438163151 1.2960117261814497\n",
      "1.9999981023450901 1.9999981023450901 1.6734869439830207\n",
      "6.2909075733630955e-06 1.9285699959679732 1.8654951971622662\n",
      "3.946307865088044e-06 1.8571418895908562 1.8522405428169644\n",
      "7.235731427554648e-06 1.7857137832137393 1.7855703940091194\n",
      "9.910137091085637e-06 1.7142856768366224 1.7142856768366226\n",
      "6.6247925427974865e-06 1.6428575704595054 1.6428575704595056\n",
      "5.500679232842573e-06 1.5714294640823887 1.571429464082389\n",
      "6.842604507142144e-06 1.5000013577052718 1.5000013577052718\n",
      "9.552239549080758e-06 1.4285732513281548 1.4285732513281548\n",
      "1.1046727671642426e-06 1.3571451449510379 1.3571451449510379\n",
      "1.025781177613208e-05 1.285717038573921 1.285717038573921\n",
      "7.09086865504921e-06 1.214288932196804 1.2142984897346847\n",
      "5.806356304132366e-06 1.142860825819687 1.143196446745741\n",
      "7.384240497836061e-06 1.0714327194425701 1.0759503089910996\n",
      "1.0000046130654532 1.0000046130654532 1.0259860146587834\n",
      "0.999991684701768 0.999991684701768 1.0045181287999534\n",
      "1.0000061324880756 1.0000061324880756 1.000337857681315\n",
      "8.068210993009107e-06 1.0000051211701575 1.0000138294764889\n",
      "2.000003327602222 1.0000041098522394 1.0000040408655928\n",
      "2.000000591172524 1.0000030985343213 1.0000030964654198\n",
      "2.000006441081778 1.0000020872164035 1.0000020872164035\n",
      "1.9999986656215274 1.0000010758984854 1.0000010758984854\n",
      "1.2455480242628592e-06 1.0000000645805673 1.0000000645805673\n",
      "6.173608089899381e-06 0.9999990532626493 0.9999990536311542\n",
      "7.0061059682410005e-06 0.9999980419447312 0.9999980548849452\n",
      "3.842975782813031e-06 0.9999970306268132 0.9999972048041983\n",
      "0.9999960193088951 0.9999960193088951 0.9999970205744715\n",
      "1.9999944434473487 0.9999977615075123 0.9999979208887659\n",
      "4.1621649054774596e-06 0.9999995037061293 0.9999993174880051\n",
      "1.0000012459047465 1.0000012459047465 1.0000001009218908\n",
      "0.9999998396706492 0.9999998396706492 0.999999640512311\n",
      "5.338095908902148e-06 0.9999984334365519 0.9999984186404205\n",
      "5.4798709820272395e-06 0.9999970272024546 0.9999970267810979\n",
      "17.999994129140063 0.9999956209683574 0.9999956209683575\n",
      "18.00000685327247 0.9999942147342601 0.9999942147342602\n",
      "16.999995941989877 0.9999928085001628 0.99999280868836\n",
      "7.793673092291493e-06 0.9999914022660655 0.9999914090628921\n",
      "5.0364106968438375e-06 0.9999899960319683 0.9999900915938233\n",
      "5.172457338476962e-06 0.999988589797871 0.9999891903174165\n"
     ]
    }
   ],
   "source": [
    "def MovingAverageFilter(input_array, window_size = 5):\n",
    "    return np.convolve(input_array, np.ones(window_size)/window_size, mode='same')\n",
    "\n",
    "SmoothedRadius = MovingAverageFilter(CleanedRadius,5)\n",
    "\n",
    "from scipy.ndimage import gaussian_filter1d\n",
    "\n",
    "SmoothedRadius = gaussian_filter1d(CleanedRadius, sigma = 1)\n",
    "\n",
    "\n",
    "for i in range(NPoints):\n",
    "    print(Radius[i], CleanedRadius[i], SmoothedRadius[i])\n",
    "    radius_scalars.InsertNextValue(SmoothedRadius[i])"
   ]
  },
  {
   "cell_type": "code",
   "execution_count": 27,
   "metadata": {},
   "outputs": [
    {
     "data": {
      "text/plain": [
       "0"
      ]
     },
     "execution_count": 27,
     "metadata": {},
     "output_type": "execute_result"
    }
   ],
   "source": [
    "CenterLine = CenterLineVTP.GetOutput()\n",
    "CenterLine.GetPointData().SetScalars(radius_scalars)"
   ]
  },
  {
   "cell_type": "code",
   "execution_count": 28,
   "metadata": {},
   "outputs": [],
   "source": [
    "def Line(centerline):\n",
    "    tube_filter = vtk.vtkTubeFilter()\n",
    "    tube_filter.SetInputData(centerline)\n",
    "    #tube_filter.SetRadius(Radius)  # Adjust this value to change thickness\n",
    "    tube_filter.SetNumberOfSides(50)  # Higher = smoother tube\n",
    "    #tube_filter.CappingOn()  # Close tube ends\n",
    "    tube_filter.SetVaryRadiusToVaryRadiusByAbsoluteScalar()\n",
    "    tube_filter.Update()\n",
    "    return tube_filter.GetOutput()\n",
    "\n",
    "VesselSegmentation = Line(CenterLine)"
   ]
  },
  {
   "cell_type": "code",
   "execution_count": 29,
   "metadata": {},
   "outputs": [
    {
     "name": "stderr",
     "output_type": "stream",
     "text": [
      "mkdir: /Users/ana/Documents/AnahitaSeresti/Tesselation/KoenTesselation_SU03A/SimVascular_Edgard/Paths/L_LAD_0: File exists\n"
     ]
    },
    {
     "data": {
      "text/plain": [
       "256"
      ]
     },
     "execution_count": 29,
     "metadata": {},
     "output_type": "execute_result"
    }
   ],
   "source": [
    "OutputFolder = os.path.dirname(pathline_file)\n",
    "VesselName = os.path.splitext(os.path.basename(pathline_file))[0]\n",
    "OutputFolder = os.path.join(OutputFolder,VesselName)\n",
    "\n",
    "os.system(f\"mkdir {OutputFolder}\")"
   ]
  },
  {
   "cell_type": "code",
   "execution_count": 30,
   "metadata": {},
   "outputs": [],
   "source": [
    "#CS_Grd_FileName = f\"{VesselName}_CrossSection_{cs_loc}_Grd.vtp\"\n",
    "#WriteVTPFile(os.path.join(OutputFolder,CS_Grd_FileName), CrossSectionGrd)\n",
    "\n",
    "OutputFileName = f\"{VesselName}_Segementation.vtp\"\n",
    "WriteVTPFile(os.path.join(OutputFolder,OutputFileName), VesselSegmentation)"
   ]
  },
  {
   "cell_type": "code",
   "execution_count": null,
   "metadata": {},
   "outputs": [],
   "source": []
  }
 ],
 "metadata": {
  "kernelspec": {
   "display_name": "vtkfenics",
   "language": "python",
   "name": "python3"
  },
  "language_info": {
   "codemirror_mode": {
    "name": "ipython",
    "version": 3
   },
   "file_extension": ".py",
   "mimetype": "text/x-python",
   "name": "python",
   "nbconvert_exporter": "python",
   "pygments_lexer": "ipython3",
   "version": "3.11.4"
  }
 },
 "nbformat": 4,
 "nbformat_minor": 2
}
